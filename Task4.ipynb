{
 "cells": [
  {
   "cell_type": "code",
   "execution_count": null,
   "id": "8d2211c9",
   "metadata": {},
   "outputs": [],
   "source": []
  },
  {
   "cell_type": "code",
   "execution_count": 2,
   "id": "28a673f4",
   "metadata": {},
   "outputs": [],
   "source": [
    "import pulp"
   ]
  },
  {
   "cell_type": "code",
   "execution_count": 3,
   "id": "cdd967b7",
   "metadata": {},
   "outputs": [],
   "source": [
    "model = pulp.LpProblem(\"Maximize_Profit\", pulp.LpMaximize)"
   ]
  },
  {
   "cell_type": "code",
   "execution_count": 4,
   "id": "7935d0a1",
   "metadata": {},
   "outputs": [],
   "source": [
    "# Decision variables\n",
    "x = pulp.LpVariable('Product_X', lowBound=0, cat='Integer')\n",
    "y = pulp.LpVariable('Product_Y', lowBound=0, cat='Integer')"
   ]
  },
  {
   "cell_type": "code",
   "execution_count": 5,
   "id": "dc9e4e88",
   "metadata": {},
   "outputs": [],
   "source": [
    "# Objective function\n",
    "model += 20*x + 30*y  # profit function"
   ]
  },
  {
   "cell_type": "code",
   "execution_count": 6,
   "id": "dfbf4189",
   "metadata": {},
   "outputs": [],
   "source": [
    "# Constraints\n",
    "model += 2*x + y <= 100  # raw material constraint\n",
    "model += x + 2*y <= 80   # labor constraint"
   ]
  },
  {
   "cell_type": "code",
   "execution_count": 7,
   "id": "e23061f9",
   "metadata": {},
   "outputs": [
    {
     "name": "stdout",
     "output_type": "stream",
     "text": [
      " Optimization Results:\n",
      "Produce 40.0 units of Product X\n",
      "Produce 20.0 units of Product Y\n",
      "Total Profit = 1400.0\n"
     ]
    }
   ],
   "source": [
    "model.solve()\n",
    "\n",
    "print(\" Optimization Results:\")\n",
    "print(f\"Produce {x.varValue} units of Product X\")\n",
    "print(f\"Produce {y.varValue} units of Product Y\")\n",
    "print(f\"Total Profit = {pulp.value(model.objective)}\")"
   ]
  },
  {
   "cell_type": "code",
   "execution_count": null,
   "id": "b17e4ab7",
   "metadata": {},
   "outputs": [],
   "source": []
  }
 ],
 "metadata": {
  "kernelspec": {
   "display_name": "task",
   "language": "python",
   "name": "python3"
  },
  "language_info": {
   "codemirror_mode": {
    "name": "ipython",
    "version": 3
   },
   "file_extension": ".py",
   "mimetype": "text/x-python",
   "name": "python",
   "nbconvert_exporter": "python",
   "pygments_lexer": "ipython3",
   "version": "3.10.0"
  }
 },
 "nbformat": 4,
 "nbformat_minor": 5
}
